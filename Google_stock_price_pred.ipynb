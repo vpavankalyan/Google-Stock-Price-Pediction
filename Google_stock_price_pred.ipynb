{
  "nbformat": 4,
  "nbformat_minor": 0,
  "metadata": {
    "colab": {
      "name": "Google_stock_price_pred.ipynb",
      "provenance": [],
      "authorship_tag": "ABX9TyPtALkbS60hOlkjqF5lKRMw",
      "include_colab_link": true
    },
    "kernelspec": {
      "name": "python3",
      "display_name": "Python 3"
    },
    "language_info": {
      "name": "python"
    },
    "accelerator": "GPU"
  },
  "cells": [
    {
      "cell_type": "markdown",
      "metadata": {
        "id": "view-in-github",
        "colab_type": "text"
      },
      "source": [
        "<a href=\"https://colab.research.google.com/github/vpavankalyan/Google-Stock-Price-Pediction/blob/main/Google_stock_price_pred.ipynb\" target=\"_parent\"><img src=\"https://colab.research.google.com/assets/colab-badge.svg\" alt=\"Open In Colab\"/></a>"
      ]
    },
    {
      "cell_type": "markdown",
      "metadata": {
        "id": "nk6RavdcMyRT"
      },
      "source": [
        "#Importing Libraries"
      ]
    },
    {
      "cell_type": "code",
      "metadata": {
        "id": "vpw-VBkNL1I2"
      },
      "source": [
        "import pandas as pd"
      ],
      "execution_count": 1,
      "outputs": []
    },
    {
      "cell_type": "code",
      "metadata": {
        "id": "04_8fBPcL58Y"
      },
      "source": [
        "import numpy as np"
      ],
      "execution_count": 2,
      "outputs": []
    },
    {
      "cell_type": "code",
      "metadata": {
        "id": "sbkR6VMTL8oF"
      },
      "source": [
        "import matplotlib.pyplot as plt"
      ],
      "execution_count": 3,
      "outputs": []
    },
    {
      "cell_type": "markdown",
      "metadata": {
        "id": "szPCjRo4MAWd"
      },
      "source": [
        "#Importing Dataset"
      ]
    },
    {
      "cell_type": "code",
      "metadata": {
        "id": "ZTZy6DxKMCMt"
      },
      "source": [
        "dataset_train = pd.read_csv('/content/Google_Stock_Price_Train.csv')"
      ],
      "execution_count": 4,
      "outputs": []
    },
    {
      "cell_type": "code",
      "metadata": {
        "id": "kZOYR66vMOwn"
      },
      "source": [
        "train_set = dataset_train.iloc[:, 1:2].values"
      ],
      "execution_count": 5,
      "outputs": []
    },
    {
      "cell_type": "markdown",
      "metadata": {
        "id": "M8sHHdmHMkKo"
      },
      "source": [
        "#Feature Scaling"
      ]
    },
    {
      "cell_type": "code",
      "metadata": {
        "id": "YDsC8opuMieJ"
      },
      "source": [
        "from sklearn.preprocessing import MinMaxScaler"
      ],
      "execution_count": 6,
      "outputs": []
    },
    {
      "cell_type": "code",
      "metadata": {
        "id": "XSBcJ_yYNEbq"
      },
      "source": [
        "sc = MinMaxScaler(feature_range=(0,1))"
      ],
      "execution_count": 7,
      "outputs": []
    },
    {
      "cell_type": "code",
      "metadata": {
        "id": "oyjv8T-UNP7k"
      },
      "source": [
        "train_set_scaled = sc.fit_transform(train_set)"
      ],
      "execution_count": 8,
      "outputs": []
    },
    {
      "cell_type": "code",
      "metadata": {
        "colab": {
          "base_uri": "https://localhost:8080/"
        },
        "id": "tsWXELmoNtKQ",
        "outputId": "0f797c0e-bce3-46bd-9adb-d4896fb8376d"
      },
      "source": [
        "print(train_set)"
      ],
      "execution_count": 9,
      "outputs": [
        {
          "output_type": "stream",
          "text": [
            "[[325.25]\n",
            " [331.27]\n",
            " [329.83]\n",
            " ...\n",
            " [793.7 ]\n",
            " [783.33]\n",
            " [782.75]]\n"
          ],
          "name": "stdout"
        }
      ]
    },
    {
      "cell_type": "code",
      "metadata": {
        "colab": {
          "base_uri": "https://localhost:8080/"
        },
        "id": "2UC19WgjIp7D",
        "outputId": "85440266-8fd5-4620-cf6a-0b244312ab11"
      },
      "source": [
        "train_set.shape"
      ],
      "execution_count": 10,
      "outputs": [
        {
          "output_type": "execute_result",
          "data": {
            "text/plain": [
              "(1258, 1)"
            ]
          },
          "metadata": {
            "tags": []
          },
          "execution_count": 10
        }
      ]
    },
    {
      "cell_type": "code",
      "metadata": {
        "colab": {
          "base_uri": "https://localhost:8080/"
        },
        "id": "_Z3MMMLzNorK",
        "outputId": "fe501f23-47af-45a9-a032-791b42fa52ab"
      },
      "source": [
        "print(train_set_scaled)"
      ],
      "execution_count": 11,
      "outputs": [
        {
          "output_type": "stream",
          "text": [
            "[[0.08581368]\n",
            " [0.09701243]\n",
            " [0.09433366]\n",
            " ...\n",
            " [0.95725128]\n",
            " [0.93796041]\n",
            " [0.93688146]]\n"
          ],
          "name": "stdout"
        }
      ]
    },
    {
      "cell_type": "markdown",
      "metadata": {
        "id": "lyspWOr4OWIy"
      },
      "source": [
        "# Data Preprocessing"
      ]
    },
    {
      "cell_type": "markdown",
      "metadata": {
        "id": "ZxsRl8vICj_G"
      },
      "source": [
        "Data Structure with 60 Timestamps and 1 Output"
      ]
    },
    {
      "cell_type": "code",
      "metadata": {
        "id": "X3edEwtVNwQ8"
      },
      "source": [
        "X_train = []"
      ],
      "execution_count": 12,
      "outputs": []
    },
    {
      "cell_type": "code",
      "metadata": {
        "id": "2F4ZNS6iO7YU"
      },
      "source": [
        "y_train =[]"
      ],
      "execution_count": 13,
      "outputs": []
    },
    {
      "cell_type": "code",
      "metadata": {
        "id": "4fGE8a4vO9ES"
      },
      "source": [
        "for i in range(60,1258):\n",
        "  X_train.append(train_set_scaled[i-60:i,0])\n",
        "  y_train.append(train_set_scaled[i,0])\n",
        "X_train,y_train = np.array(X_train),np.array(y_train)"
      ],
      "execution_count": 14,
      "outputs": []
    },
    {
      "cell_type": "code",
      "metadata": {
        "colab": {
          "base_uri": "https://localhost:8080/"
        },
        "id": "z6RWzdA_QVfo",
        "outputId": "0941cd0a-86ca-4a1a-b266-d7d2d06ee63a"
      },
      "source": [
        "print(X_train)"
      ],
      "execution_count": 15,
      "outputs": [
        {
          "output_type": "stream",
          "text": [
            "[[0.08581368 0.09701243 0.09433366 ... 0.07846566 0.08034452 0.08497656]\n",
            " [0.09701243 0.09433366 0.09156187 ... 0.08034452 0.08497656 0.08627874]\n",
            " [0.09433366 0.09156187 0.07984225 ... 0.08497656 0.08627874 0.08471612]\n",
            " ...\n",
            " [0.92106928 0.92438053 0.93048218 ... 0.95475854 0.95204256 0.95163331]\n",
            " [0.92438053 0.93048218 0.9299055  ... 0.95204256 0.95163331 0.95725128]\n",
            " [0.93048218 0.9299055  0.93113327 ... 0.95163331 0.95725128 0.93796041]]\n"
          ],
          "name": "stdout"
        }
      ]
    },
    {
      "cell_type": "code",
      "metadata": {
        "colab": {
          "base_uri": "https://localhost:8080/"
        },
        "id": "PtBE_R3MS-TX",
        "outputId": "25183075-11f5-4822-fcf3-8aa96341e74d"
      },
      "source": [
        "X_train.shape"
      ],
      "execution_count": 16,
      "outputs": [
        {
          "output_type": "execute_result",
          "data": {
            "text/plain": [
              "(1198, 60)"
            ]
          },
          "metadata": {
            "tags": []
          },
          "execution_count": 16
        }
      ]
    },
    {
      "cell_type": "code",
      "metadata": {
        "colab": {
          "base_uri": "https://localhost:8080/"
        },
        "id": "jWKANLypQiCS",
        "outputId": "5a346745-1768-431c-c23e-df5cd0f62d5c"
      },
      "source": [
        "print(y_train)"
      ],
      "execution_count": 17,
      "outputs": [
        {
          "output_type": "stream",
          "text": [
            "[0.08627874 0.08471612 0.07454052 ... 0.95725128 0.93796041 0.93688146]\n"
          ],
          "name": "stdout"
        }
      ]
    },
    {
      "cell_type": "code",
      "metadata": {
        "colab": {
          "base_uri": "https://localhost:8080/"
        },
        "id": "ECn6qeE-TM_2",
        "outputId": "6660b9aa-25ce-474a-eedd-b14b8cc42b02"
      },
      "source": [
        "y_train.shape"
      ],
      "execution_count": 18,
      "outputs": [
        {
          "output_type": "execute_result",
          "data": {
            "text/plain": [
              "(1198,)"
            ]
          },
          "metadata": {
            "tags": []
          },
          "execution_count": 18
        }
      ]
    },
    {
      "cell_type": "markdown",
      "metadata": {
        "id": "j-dGkj36RVOZ"
      },
      "source": [
        "Reshaping"
      ]
    },
    {
      "cell_type": "code",
      "metadata": {
        "id": "VqtNpr06RWya"
      },
      "source": [
        "X_train = np.reshape(X_train,(X_train.shape[0],X_train.shape[1],1))"
      ],
      "execution_count": 19,
      "outputs": []
    },
    {
      "cell_type": "code",
      "metadata": {
        "colab": {
          "base_uri": "https://localhost:8080/"
        },
        "id": "ycqHmDzvVKSs",
        "outputId": "b2a085d0-928f-498d-cc8b-d7d286507997"
      },
      "source": [
        "print(X_train)"
      ],
      "execution_count": 20,
      "outputs": [
        {
          "output_type": "stream",
          "text": [
            "[[[0.08581368]\n",
            "  [0.09701243]\n",
            "  [0.09433366]\n",
            "  ...\n",
            "  [0.07846566]\n",
            "  [0.08034452]\n",
            "  [0.08497656]]\n",
            "\n",
            " [[0.09701243]\n",
            "  [0.09433366]\n",
            "  [0.09156187]\n",
            "  ...\n",
            "  [0.08034452]\n",
            "  [0.08497656]\n",
            "  [0.08627874]]\n",
            "\n",
            " [[0.09433366]\n",
            "  [0.09156187]\n",
            "  [0.07984225]\n",
            "  ...\n",
            "  [0.08497656]\n",
            "  [0.08627874]\n",
            "  [0.08471612]]\n",
            "\n",
            " ...\n",
            "\n",
            " [[0.92106928]\n",
            "  [0.92438053]\n",
            "  [0.93048218]\n",
            "  ...\n",
            "  [0.95475854]\n",
            "  [0.95204256]\n",
            "  [0.95163331]]\n",
            "\n",
            " [[0.92438053]\n",
            "  [0.93048218]\n",
            "  [0.9299055 ]\n",
            "  ...\n",
            "  [0.95204256]\n",
            "  [0.95163331]\n",
            "  [0.95725128]]\n",
            "\n",
            " [[0.93048218]\n",
            "  [0.9299055 ]\n",
            "  [0.93113327]\n",
            "  ...\n",
            "  [0.95163331]\n",
            "  [0.95725128]\n",
            "  [0.93796041]]]\n"
          ],
          "name": "stdout"
        }
      ]
    },
    {
      "cell_type": "markdown",
      "metadata": {
        "id": "alauOtWDQmHS"
      },
      "source": [
        "# Building RNN"
      ]
    },
    {
      "cell_type": "markdown",
      "metadata": {
        "id": "_yL2x2JqKrdm"
      },
      "source": [
        "## importing related libraries"
      ]
    },
    {
      "cell_type": "code",
      "metadata": {
        "id": "aOJovp_lQrmW"
      },
      "source": [
        "import tensorflow as tf"
      ],
      "execution_count": 21,
      "outputs": []
    },
    {
      "cell_type": "code",
      "metadata": {
        "id": "e5dqi1c1RC3J"
      },
      "source": [
        "from keras.models import Sequential"
      ],
      "execution_count": 22,
      "outputs": []
    },
    {
      "cell_type": "code",
      "metadata": {
        "id": "af7sgN0FRDJB"
      },
      "source": [
        "from keras.layers import Dense"
      ],
      "execution_count": 23,
      "outputs": []
    },
    {
      "cell_type": "code",
      "metadata": {
        "id": "mth47EAUKUR6"
      },
      "source": [
        "from keras.layers import LSTM"
      ],
      "execution_count": 24,
      "outputs": []
    },
    {
      "cell_type": "code",
      "metadata": {
        "id": "LMFy7TNgKVKL"
      },
      "source": [
        "from keras.layers import Dropout"
      ],
      "execution_count": 25,
      "outputs": []
    },
    {
      "cell_type": "markdown",
      "metadata": {
        "id": "ndYzshh_KueP"
      },
      "source": [
        "## Building the RNN"
      ]
    },
    {
      "cell_type": "code",
      "metadata": {
        "id": "67R9lYWUKg7d"
      },
      "source": [
        "regressor = Sequential()"
      ],
      "execution_count": 26,
      "outputs": []
    },
    {
      "cell_type": "markdown",
      "metadata": {
        "id": "8XxaGvn8RPlo"
      },
      "source": [
        "1st Layer"
      ]
    },
    {
      "cell_type": "code",
      "metadata": {
        "id": "KyfZmAJZLi9j"
      },
      "source": [
        "regressor.add(LSTM(units=50,return_sequences=True,input_shape=(X_train.shape[1],1)))"
      ],
      "execution_count": 27,
      "outputs": []
    },
    {
      "cell_type": "code",
      "metadata": {
        "id": "_zUg-sIwNy9s"
      },
      "source": [
        "regressor.add(Dropout(0.2))"
      ],
      "execution_count": 28,
      "outputs": []
    },
    {
      "cell_type": "markdown",
      "metadata": {
        "id": "-vVXVtjHPGLR"
      },
      "source": [
        "2nd Layer"
      ]
    },
    {
      "cell_type": "code",
      "metadata": {
        "id": "r09V_hsAO-De"
      },
      "source": [
        "regressor.add(LSTM(units=50,return_sequences=True))"
      ],
      "execution_count": 29,
      "outputs": []
    },
    {
      "cell_type": "code",
      "metadata": {
        "id": "S3KMQQXJPALm"
      },
      "source": [
        "regressor.add(Dropout(0.2))"
      ],
      "execution_count": 30,
      "outputs": []
    },
    {
      "cell_type": "markdown",
      "metadata": {
        "id": "86bEVcmVPO1z"
      },
      "source": [
        "3rd Layer"
      ]
    },
    {
      "cell_type": "code",
      "metadata": {
        "id": "fa3E216EPMOK"
      },
      "source": [
        "regressor.add(LSTM(units=50,return_sequences=True))"
      ],
      "execution_count": 31,
      "outputs": []
    },
    {
      "cell_type": "code",
      "metadata": {
        "id": "Koe_51jzPN3q"
      },
      "source": [
        "regressor.add(Dropout(0.2))"
      ],
      "execution_count": 32,
      "outputs": []
    },
    {
      "cell_type": "markdown",
      "metadata": {
        "id": "lD27jYegPeaw"
      },
      "source": [
        "4th Layer"
      ]
    },
    {
      "cell_type": "code",
      "metadata": {
        "id": "NBceGP38PgOf"
      },
      "source": [
        "regressor.add(LSTM(units=50))"
      ],
      "execution_count": 33,
      "outputs": []
    },
    {
      "cell_type": "code",
      "metadata": {
        "id": "Rrb9jwZsPu_l"
      },
      "source": [
        "regressor.add(Dropout(0.2))"
      ],
      "execution_count": 34,
      "outputs": []
    },
    {
      "cell_type": "markdown",
      "metadata": {
        "id": "A1D-2v-BPxuR"
      },
      "source": [
        "Output Layer"
      ]
    },
    {
      "cell_type": "code",
      "metadata": {
        "id": "2X9O__VBP1Ap"
      },
      "source": [
        "regressor.add(Dense(units=1))"
      ],
      "execution_count": 35,
      "outputs": []
    },
    {
      "cell_type": "markdown",
      "metadata": {
        "id": "kLln4b0uQ-jP"
      },
      "source": [
        "Compiling the RNN"
      ]
    },
    {
      "cell_type": "code",
      "metadata": {
        "id": "hfTyCrQWQvad"
      },
      "source": [
        "regressor.compile(optimizer='adam',loss='mean_squared_error')"
      ],
      "execution_count": 36,
      "outputs": []
    },
    {
      "cell_type": "code",
      "metadata": {
        "colab": {
          "base_uri": "https://localhost:8080/"
        },
        "id": "upj-u1UjSTVb",
        "outputId": "1a912c82-7ac8-4995-eb6e-b0993193f2d2"
      },
      "source": [
        "regressor.fit(X_train,y_train,epochs=100,batch_size=32)"
      ],
      "execution_count": 37,
      "outputs": [
        {
          "output_type": "stream",
          "text": [
            "Epoch 1/100\n",
            "38/38 [==============================] - 25s 16ms/step - loss: 0.0731\n",
            "Epoch 2/100\n",
            "38/38 [==============================] - 0s 12ms/step - loss: 0.0066\n",
            "Epoch 3/100\n",
            "38/38 [==============================] - 0s 12ms/step - loss: 0.0061\n",
            "Epoch 4/100\n",
            "38/38 [==============================] - 0s 12ms/step - loss: 0.0048\n",
            "Epoch 5/100\n",
            "38/38 [==============================] - 0s 12ms/step - loss: 0.0049\n",
            "Epoch 6/100\n",
            "38/38 [==============================] - 0s 13ms/step - loss: 0.0049\n",
            "Epoch 7/100\n",
            "38/38 [==============================] - 0s 12ms/step - loss: 0.0047\n",
            "Epoch 8/100\n",
            "38/38 [==============================] - 0s 12ms/step - loss: 0.0048\n",
            "Epoch 9/100\n",
            "38/38 [==============================] - 0s 13ms/step - loss: 0.0048\n",
            "Epoch 10/100\n",
            "38/38 [==============================] - 0s 13ms/step - loss: 0.0041\n",
            "Epoch 11/100\n",
            "38/38 [==============================] - 0s 12ms/step - loss: 0.0041\n",
            "Epoch 12/100\n",
            "38/38 [==============================] - 0s 12ms/step - loss: 0.0034\n",
            "Epoch 13/100\n",
            "38/38 [==============================] - 0s 13ms/step - loss: 0.0042\n",
            "Epoch 14/100\n",
            "38/38 [==============================] - 0s 13ms/step - loss: 0.0043\n",
            "Epoch 15/100\n",
            "38/38 [==============================] - 0s 12ms/step - loss: 0.0033\n",
            "Epoch 16/100\n",
            "38/38 [==============================] - 0s 13ms/step - loss: 0.0041\n",
            "Epoch 17/100\n",
            "38/38 [==============================] - 0s 12ms/step - loss: 0.0038\n",
            "Epoch 18/100\n",
            "38/38 [==============================] - 0s 13ms/step - loss: 0.0040\n",
            "Epoch 19/100\n",
            "38/38 [==============================] - 0s 13ms/step - loss: 0.0038\n",
            "Epoch 20/100\n",
            "38/38 [==============================] - 0s 13ms/step - loss: 0.0038\n",
            "Epoch 21/100\n",
            "38/38 [==============================] - 0s 12ms/step - loss: 0.0033\n",
            "Epoch 22/100\n",
            "38/38 [==============================] - 0s 12ms/step - loss: 0.0039\n",
            "Epoch 23/100\n",
            "38/38 [==============================] - 0s 13ms/step - loss: 0.0036\n",
            "Epoch 24/100\n",
            "38/38 [==============================] - 0s 12ms/step - loss: 0.0039\n",
            "Epoch 25/100\n",
            "38/38 [==============================] - 0s 12ms/step - loss: 0.0031\n",
            "Epoch 26/100\n",
            "38/38 [==============================] - 0s 12ms/step - loss: 0.0029\n",
            "Epoch 27/100\n",
            "38/38 [==============================] - 0s 13ms/step - loss: 0.0030\n",
            "Epoch 28/100\n",
            "38/38 [==============================] - 0s 13ms/step - loss: 0.0031\n",
            "Epoch 29/100\n",
            "38/38 [==============================] - 0s 12ms/step - loss: 0.0028\n",
            "Epoch 30/100\n",
            "38/38 [==============================] - 0s 13ms/step - loss: 0.0028\n",
            "Epoch 31/100\n",
            "38/38 [==============================] - 0s 13ms/step - loss: 0.0032\n",
            "Epoch 32/100\n",
            "38/38 [==============================] - 0s 13ms/step - loss: 0.0040\n",
            "Epoch 33/100\n",
            "38/38 [==============================] - 0s 12ms/step - loss: 0.0025\n",
            "Epoch 34/100\n",
            "38/38 [==============================] - 0s 12ms/step - loss: 0.0025\n",
            "Epoch 35/100\n",
            "38/38 [==============================] - 0s 13ms/step - loss: 0.0029\n",
            "Epoch 36/100\n",
            "38/38 [==============================] - 0s 12ms/step - loss: 0.0026\n",
            "Epoch 37/100\n",
            "38/38 [==============================] - 0s 13ms/step - loss: 0.0024\n",
            "Epoch 38/100\n",
            "38/38 [==============================] - 0s 13ms/step - loss: 0.0031\n",
            "Epoch 39/100\n",
            "38/38 [==============================] - 0s 13ms/step - loss: 0.0023\n",
            "Epoch 40/100\n",
            "38/38 [==============================] - 0s 12ms/step - loss: 0.0027\n",
            "Epoch 41/100\n",
            "38/38 [==============================] - 0s 12ms/step - loss: 0.0025\n",
            "Epoch 42/100\n",
            "38/38 [==============================] - 0s 12ms/step - loss: 0.0023\n",
            "Epoch 43/100\n",
            "38/38 [==============================] - 0s 12ms/step - loss: 0.0027\n",
            "Epoch 44/100\n",
            "38/38 [==============================] - 1s 13ms/step - loss: 0.0025\n",
            "Epoch 45/100\n",
            "38/38 [==============================] - 0s 13ms/step - loss: 0.0025\n",
            "Epoch 46/100\n",
            "38/38 [==============================] - 0s 13ms/step - loss: 0.0029\n",
            "Epoch 47/100\n",
            "38/38 [==============================] - 0s 13ms/step - loss: 0.0024\n",
            "Epoch 48/100\n",
            "38/38 [==============================] - 0s 13ms/step - loss: 0.0026\n",
            "Epoch 49/100\n",
            "38/38 [==============================] - 0s 13ms/step - loss: 0.0023\n",
            "Epoch 50/100\n",
            "38/38 [==============================] - 0s 13ms/step - loss: 0.0022\n",
            "Epoch 51/100\n",
            "38/38 [==============================] - 0s 13ms/step - loss: 0.0022\n",
            "Epoch 52/100\n",
            "38/38 [==============================] - 0s 12ms/step - loss: 0.0021\n",
            "Epoch 53/100\n",
            "38/38 [==============================] - 0s 12ms/step - loss: 0.0023\n",
            "Epoch 54/100\n",
            "38/38 [==============================] - 0s 13ms/step - loss: 0.0019\n",
            "Epoch 55/100\n",
            "38/38 [==============================] - 0s 12ms/step - loss: 0.0024\n",
            "Epoch 56/100\n",
            "38/38 [==============================] - 0s 12ms/step - loss: 0.0023\n",
            "Epoch 57/100\n",
            "38/38 [==============================] - 0s 12ms/step - loss: 0.0020\n",
            "Epoch 58/100\n",
            "38/38 [==============================] - 0s 13ms/step - loss: 0.0019\n",
            "Epoch 59/100\n",
            "38/38 [==============================] - 0s 13ms/step - loss: 0.0022\n",
            "Epoch 60/100\n",
            "38/38 [==============================] - 0s 13ms/step - loss: 0.0020\n",
            "Epoch 61/100\n",
            "38/38 [==============================] - 0s 12ms/step - loss: 0.0018\n",
            "Epoch 62/100\n",
            "38/38 [==============================] - 0s 13ms/step - loss: 0.0021\n",
            "Epoch 63/100\n",
            "38/38 [==============================] - 0s 13ms/step - loss: 0.0021\n",
            "Epoch 64/100\n",
            "38/38 [==============================] - 0s 12ms/step - loss: 0.0020\n",
            "Epoch 65/100\n",
            "38/38 [==============================] - 0s 12ms/step - loss: 0.0019\n",
            "Epoch 66/100\n",
            "38/38 [==============================] - 0s 13ms/step - loss: 0.0017\n",
            "Epoch 67/100\n",
            "38/38 [==============================] - 0s 13ms/step - loss: 0.0016\n",
            "Epoch 68/100\n",
            "38/38 [==============================] - 0s 13ms/step - loss: 0.0017\n",
            "Epoch 69/100\n",
            "38/38 [==============================] - 0s 13ms/step - loss: 0.0021\n",
            "Epoch 70/100\n",
            "38/38 [==============================] - 0s 12ms/step - loss: 0.0017\n",
            "Epoch 71/100\n",
            "38/38 [==============================] - 0s 13ms/step - loss: 0.0020\n",
            "Epoch 72/100\n",
            "38/38 [==============================] - 0s 12ms/step - loss: 0.0020\n",
            "Epoch 73/100\n",
            "38/38 [==============================] - 0s 13ms/step - loss: 0.0018\n",
            "Epoch 74/100\n",
            "38/38 [==============================] - 0s 12ms/step - loss: 0.0017\n",
            "Epoch 75/100\n",
            "38/38 [==============================] - 0s 13ms/step - loss: 0.0017\n",
            "Epoch 76/100\n",
            "38/38 [==============================] - 0s 12ms/step - loss: 0.0020\n",
            "Epoch 77/100\n",
            "38/38 [==============================] - 0s 13ms/step - loss: 0.0016\n",
            "Epoch 78/100\n",
            "38/38 [==============================] - 0s 13ms/step - loss: 0.0016\n",
            "Epoch 79/100\n",
            "38/38 [==============================] - 0s 13ms/step - loss: 0.0016\n",
            "Epoch 80/100\n",
            "38/38 [==============================] - 0s 13ms/step - loss: 0.0015\n",
            "Epoch 81/100\n",
            "38/38 [==============================] - 0s 13ms/step - loss: 0.0016\n",
            "Epoch 82/100\n",
            "38/38 [==============================] - 0s 13ms/step - loss: 0.0017\n",
            "Epoch 83/100\n",
            "38/38 [==============================] - 0s 13ms/step - loss: 0.0018\n",
            "Epoch 84/100\n",
            "38/38 [==============================] - 0s 12ms/step - loss: 0.0017\n",
            "Epoch 85/100\n",
            "38/38 [==============================] - 0s 13ms/step - loss: 0.0015\n",
            "Epoch 86/100\n",
            "38/38 [==============================] - 0s 13ms/step - loss: 0.0015\n",
            "Epoch 87/100\n",
            "38/38 [==============================] - 0s 12ms/step - loss: 0.0014\n",
            "Epoch 88/100\n",
            "38/38 [==============================] - 0s 13ms/step - loss: 0.0017\n",
            "Epoch 89/100\n",
            "38/38 [==============================] - 0s 13ms/step - loss: 0.0014\n",
            "Epoch 90/100\n",
            "38/38 [==============================] - 1s 14ms/step - loss: 0.0014\n",
            "Epoch 91/100\n",
            "38/38 [==============================] - 0s 13ms/step - loss: 0.0016\n",
            "Epoch 92/100\n",
            "38/38 [==============================] - 0s 13ms/step - loss: 0.0016\n",
            "Epoch 93/100\n",
            "38/38 [==============================] - 0s 13ms/step - loss: 0.0014\n",
            "Epoch 94/100\n",
            "38/38 [==============================] - 0s 13ms/step - loss: 0.0015\n",
            "Epoch 95/100\n",
            "38/38 [==============================] - 0s 12ms/step - loss: 0.0014\n",
            "Epoch 96/100\n",
            "38/38 [==============================] - 0s 13ms/step - loss: 0.0014\n",
            "Epoch 97/100\n",
            "38/38 [==============================] - 0s 12ms/step - loss: 0.0014\n",
            "Epoch 98/100\n",
            "38/38 [==============================] - 0s 13ms/step - loss: 0.0013\n",
            "Epoch 99/100\n",
            "38/38 [==============================] - 0s 13ms/step - loss: 0.0014\n",
            "Epoch 100/100\n",
            "38/38 [==============================] - 0s 13ms/step - loss: 0.0014\n"
          ],
          "name": "stdout"
        },
        {
          "output_type": "execute_result",
          "data": {
            "text/plain": [
              "<keras.callbacks.History at 0x7f894045f450>"
            ]
          },
          "metadata": {
            "tags": []
          },
          "execution_count": 37
        }
      ]
    },
    {
      "cell_type": "markdown",
      "metadata": {
        "id": "SAIkStPhTM5w"
      },
      "source": [
        "# Predicting for 2017"
      ]
    },
    {
      "cell_type": "code",
      "metadata": {
        "id": "uOsdxYA5UvKq"
      },
      "source": [
        "dataset_test = pd.read_csv('/content/Google_Stock_Price_Test.csv')"
      ],
      "execution_count": 38,
      "outputs": []
    },
    {
      "cell_type": "code",
      "metadata": {
        "id": "Em56TbZ-UlwY"
      },
      "source": [
        "real_stock_price = dataset_test.iloc[:, 1:2].values"
      ],
      "execution_count": 39,
      "outputs": []
    },
    {
      "cell_type": "code",
      "metadata": {
        "colab": {
          "base_uri": "https://localhost:8080/"
        },
        "id": "Eq_MNGpmUmeI",
        "outputId": "e8030e8f-e4ab-4bd6-b0f1-244ba65c59a0"
      },
      "source": [
        "print(real_stock_price)"
      ],
      "execution_count": 40,
      "outputs": [
        {
          "output_type": "stream",
          "text": [
            "[[778.81]\n",
            " [788.36]\n",
            " [786.08]\n",
            " [795.26]\n",
            " [806.4 ]\n",
            " [807.86]\n",
            " [805.  ]\n",
            " [807.14]\n",
            " [807.48]\n",
            " [807.08]\n",
            " [805.81]\n",
            " [805.12]\n",
            " [806.91]\n",
            " [807.25]\n",
            " [822.3 ]\n",
            " [829.62]\n",
            " [837.81]\n",
            " [834.71]\n",
            " [814.66]\n",
            " [796.86]]\n"
          ],
          "name": "stdout"
        }
      ]
    },
    {
      "cell_type": "code",
      "metadata": {
        "colab": {
          "base_uri": "https://localhost:8080/"
        },
        "id": "OjH5OOrRVaQi",
        "outputId": "cadba39d-6261-44e8-ada8-2054812a5d1e"
      },
      "source": [
        "real_stock_price.shape"
      ],
      "execution_count": 41,
      "outputs": [
        {
          "output_type": "execute_result",
          "data": {
            "text/plain": [
              "(20, 1)"
            ]
          },
          "metadata": {
            "tags": []
          },
          "execution_count": 41
        }
      ]
    },
    {
      "cell_type": "code",
      "metadata": {
        "id": "DufDHX2zVkR-"
      },
      "source": [
        "dataset_total = pd.concat((dataset_train['Open'],dataset_test['Open']),axis=0)"
      ],
      "execution_count": 42,
      "outputs": []
    },
    {
      "cell_type": "code",
      "metadata": {
        "colab": {
          "base_uri": "https://localhost:8080/"
        },
        "id": "2ynt1T6fXFEO",
        "outputId": "e416dad4-b812-4cab-c49a-10d53d41a51f"
      },
      "source": [
        "print(dataset_total)"
      ],
      "execution_count": 43,
      "outputs": [
        {
          "output_type": "stream",
          "text": [
            "0     325.25\n",
            "1     331.27\n",
            "2     329.83\n",
            "3     328.34\n",
            "4     322.04\n",
            "       ...  \n",
            "15    829.62\n",
            "16    837.81\n",
            "17    834.71\n",
            "18    814.66\n",
            "19    796.86\n",
            "Name: Open, Length: 1278, dtype: float64\n"
          ],
          "name": "stdout"
        }
      ]
    },
    {
      "cell_type": "code",
      "metadata": {
        "id": "C1rlqmBwXpnw"
      },
      "source": [
        "inputs = dataset_total[len(dataset_total)-len(dataset_test)-60:].values"
      ],
      "execution_count": 44,
      "outputs": []
    },
    {
      "cell_type": "code",
      "metadata": {
        "colab": {
          "base_uri": "https://localhost:8080/"
        },
        "id": "ObpRW2T0aE4H",
        "outputId": "f7095334-bc83-47c7-a383-4d88f0677968"
      },
      "source": [
        "print(inputs)"
      ],
      "execution_count": 45,
      "outputs": [
        {
          "output_type": "stream",
          "text": [
            "[779.   779.66 777.71 786.66 783.76 781.22 781.65 779.8  787.85 798.24\n",
            " 803.3  795.   804.9  816.68 806.34 801.   808.35 795.47 782.89 778.2\n",
            " 767.25 750.66 774.5  783.4  779.94 791.17 756.54 755.6  746.97 755.2\n",
            " 766.92 771.37 762.61 772.63 767.73 764.26 760.   771.53 770.07 757.44\n",
            " 744.59 757.71 764.73 761.   772.48 780.   785.04 793.9  797.4  797.34\n",
            " 800.4  790.22 796.76 795.84 792.36 790.9  790.68 793.7  783.33 782.75\n",
            " 778.81 788.36 786.08 795.26 806.4  807.86 805.   807.14 807.48 807.08\n",
            " 805.81 805.12 806.91 807.25 822.3  829.62 837.81 834.71 814.66 796.86]\n"
          ],
          "name": "stdout"
        }
      ]
    },
    {
      "cell_type": "code",
      "metadata": {
        "id": "uKGxMmJuZypj"
      },
      "source": [
        "inputs = inputs.reshape(-1,1)"
      ],
      "execution_count": 46,
      "outputs": []
    },
    {
      "cell_type": "code",
      "metadata": {
        "id": "W2T4MlOdZ_QW"
      },
      "source": [
        "inputs = sc.transform(inputs)"
      ],
      "execution_count": 48,
      "outputs": []
    },
    {
      "cell_type": "code",
      "metadata": {
        "colab": {
          "base_uri": "https://localhost:8080/"
        },
        "id": "JBEspcTOaXPC",
        "outputId": "3a524943-4d8f-41fd-fcbf-616203a26cd7"
      },
      "source": [
        "print(inputs)"
      ],
      "execution_count": 49,
      "outputs": [
        {
          "output_type": "stream",
          "text": [
            "[[0.9299055 ]\n",
            " [0.93113327]\n",
            " [0.92750577]\n",
            " [0.94415507]\n",
            " [0.93876032]\n",
            " [0.93403527]\n",
            " [0.93483518]\n",
            " [0.9313937 ]\n",
            " [0.94636878]\n",
            " [0.96569685]\n",
            " [0.97510976]\n",
            " [0.95966962]\n",
            " [0.97808617]\n",
            " [1.        ]\n",
            " [0.98076494]\n",
            " [0.97083116]\n",
            " [0.98450406]\n",
            " [0.96054394]\n",
            " [0.9371419 ]\n",
            " [0.92841729]\n",
            " [0.90804747]\n",
            " [0.8771858 ]\n",
            " [0.92153434]\n",
            " [0.93809063]\n",
            " [0.93165414]\n",
            " [0.95254483]\n",
            " [0.88812412]\n",
            " [0.88637547]\n",
            " [0.87032145]\n",
            " [0.88563137]\n",
            " [0.90743359]\n",
            " [0.91571173]\n",
            " [0.89941588]\n",
            " [0.91805566]\n",
            " [0.9089404 ]\n",
            " [0.9024853 ]\n",
            " [0.89456061]\n",
            " [0.91600938]\n",
            " [0.9132934 ]\n",
            " [0.88979835]\n",
            " [0.86589404]\n",
            " [0.89030062]\n",
            " [0.90335962]\n",
            " [0.89642086]\n",
            " [0.91777662]\n",
            " [0.93176576]\n",
            " [0.94114145]\n",
            " [0.95762334]\n",
            " [0.96413424]\n",
            " [0.96402262]\n",
            " [0.96971501]\n",
            " [0.95077759]\n",
            " [0.96294367]\n",
            " [0.96123223]\n",
            " [0.95475854]\n",
            " [0.95204256]\n",
            " [0.95163331]\n",
            " [0.95725128]\n",
            " [0.93796041]\n",
            " [0.93688146]\n",
            " [0.92955205]\n",
            " [0.94731751]\n",
            " [0.94307612]\n",
            " [0.96015329]\n",
            " [0.98087655]\n",
            " [0.98359253]\n",
            " [0.97827219]\n",
            " [0.98225314]\n",
            " [0.98288563]\n",
            " [0.98214153]\n",
            " [0.979779  ]\n",
            " [0.97849542]\n",
            " [0.98182528]\n",
            " [0.98245777]\n",
            " [1.01045465]\n",
            " [1.02407173]\n",
            " [1.03930724]\n",
            " [1.03354044]\n",
            " [0.99624228]\n",
            " [0.9631297 ]]\n"
          ],
          "name": "stdout"
        }
      ]
    },
    {
      "cell_type": "code",
      "metadata": {
        "colab": {
          "base_uri": "https://localhost:8080/"
        },
        "id": "ecpV9igua0Ki",
        "outputId": "9856c0e1-46e7-42a5-aa4c-5c08786c0e70"
      },
      "source": [
        "inputs.shape"
      ],
      "execution_count": 50,
      "outputs": [
        {
          "output_type": "execute_result",
          "data": {
            "text/plain": [
              "(80, 1)"
            ]
          },
          "metadata": {
            "tags": []
          },
          "execution_count": 50
        }
      ]
    },
    {
      "cell_type": "code",
      "metadata": {
        "id": "ra93AZe2aciS"
      },
      "source": [
        "X_test=[]"
      ],
      "execution_count": 51,
      "outputs": []
    },
    {
      "cell_type": "code",
      "metadata": {
        "id": "LJ1ELriRaylB"
      },
      "source": [
        "for i in range(60,80):\n",
        "  X_test.append(inputs[i-60:i,0])\n",
        "X_test = np.array(X_test)"
      ],
      "execution_count": 52,
      "outputs": []
    },
    {
      "cell_type": "code",
      "metadata": {
        "id": "IIZDnym6bPBI"
      },
      "source": [
        "X_test = np.reshape(X_test,(X_test.shape[0],X_test.shape[1],1))"
      ],
      "execution_count": 53,
      "outputs": []
    },
    {
      "cell_type": "code",
      "metadata": {
        "id": "6ZlZSYZNbYcC"
      },
      "source": [
        "pred_stock_price = regressor.predict(X_test)"
      ],
      "execution_count": 54,
      "outputs": []
    },
    {
      "cell_type": "code",
      "metadata": {
        "id": "JPj5xiXebp0f"
      },
      "source": [
        "pred_stock_price=sc.inverse_transform(pred_stock_price)"
      ],
      "execution_count": 55,
      "outputs": []
    },
    {
      "cell_type": "markdown",
      "metadata": {
        "id": "qohUELd-b-wR"
      },
      "source": [
        "# Visualizing Predictions with Real Data"
      ]
    },
    {
      "cell_type": "code",
      "metadata": {
        "colab": {
          "base_uri": "https://localhost:8080/",
          "height": 295
        },
        "id": "gDbH1HB6cEB2",
        "outputId": "5e504ecb-ace1-41c3-f6f6-eb112d1980b0"
      },
      "source": [
        "plt.plot(real_stock_price,color='red',label='real google stock price')\n",
        "plt.plot(pred_stock_price,color='blue',label='predicted google stock price')\n",
        "plt.title('Google stock price')\n",
        "plt.xlabel('Time')\n",
        "plt.ylabel('Stock Price')\n",
        "plt.show()"
      ],
      "execution_count": 56,
      "outputs": [
        {
          "output_type": "display_data",
          "data": {
            "image/png": "[encoded data removed]",
            "text/plain": [
              "<Figure size 432x288 with 1 Axes>"
            ]
          },
          "metadata": {
            "tags": [],
            "needs_background": "light"
          }
        }
      ]
    },
    {
      "cell_type": "markdown",
      "metadata": {
        "id": "crDuyGfDhtEn"
      },
      "source": [
        "# Evaluation"
      ]
    },
    {
      "cell_type": "code",
      "metadata": {
        "id": "dUq1ADZ1hwUN"
      },
      "source": [
        "import math\n",
        "from sklearn.metrics import mean_squared_error\n",
        "rmse = math.sqrt(mean_squared_error(real_stock_price, pred_stock_price))\n",
        "rmse = rmse/800"
      ],
      "execution_count": 61,
      "outputs": []
    },
    {
      "cell_type": "markdown",
      "metadata": {
        "id": "Dp_cK0lwiEiI"
      },
      "source": [
        "for a relative error we will divide by rough range of values in this case 800"
      ]
    },
    {
      "cell_type": "code",
      "metadata": {
        "colab": {
          "base_uri": "https://localhost:8080/"
        },
        "id": "cj3rI0wdh5Gi",
        "outputId": "ec1082bc-df0f-4c40-9782-c8de269250fa"
      },
      "source": [
        "print(rmse)"
      ],
      "execution_count": 62,
      "outputs": [
        {
          "output_type": "stream",
          "text": [
            "0.03122453990975413\n"
          ],
          "name": "stdout"
        }
      ]
    }
  ]
}